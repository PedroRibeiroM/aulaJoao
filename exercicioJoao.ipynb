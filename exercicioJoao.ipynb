{
  "nbformat": 4,
  "nbformat_minor": 0,
  "metadata": {
    "colab": {
      "provenance": [],
      "authorship_tag": "ABX9TyMt6uFaBgo0naNoD2prZ9Ag",
      "include_colab_link": true
    },
    "kernelspec": {
      "name": "python3",
      "display_name": "Python 3"
    },
    "language_info": {
      "name": "python"
    }
  },
  "cells": [
    {
      "cell_type": "markdown",
      "metadata": {
        "id": "view-in-github",
        "colab_type": "text"
      },
      "source": [
        "<a href=\"https://colab.research.google.com/github/PedroRibeiroM/aulaJoao/blob/main/exercicioJoao.ipynb\" target=\"_parent\"><img src=\"https://colab.research.google.com/assets/colab-badge.svg\" alt=\"Open In Colab\"/></a>"
      ]
    },
    {
      "source": [
        "from typing_extensions import Self\n",
        "import threading\n",
        "import socket\n",
        "\n",
        "class ResourceServer:\n",
        "    def __init__(self, host=\"localhost\", port=5000):\n",
        "        self.host = host\n",
        "        self.port = port\n",
        "        self.resources = {\"impressora1\": True, \"sala_reuniao1\": True}  # True = disponível\n",
        "        self.lock = threading.Lock()\n",
        "        self.socket = socket.socket(socket.AF_INET, socket.SOCK_STREAM)\n",
        "        self.socket.bind((self.host, self.port))\n",
        "        self.socket.listen()\n",
        "\n",
        "    def handle_request(self, client_socket, address):\n",
        "        with client_socket:\n",
        "            data = client_socket.recv(1024).decode()\n",
        "            client_id, resource, duration = data.split(\",\")\n",
        "            duration = int(duration)\n",
        "            with self.lock:\n",
        "                if self.resources[resource]:\n",
        "                    self.resources[resource] = False\n",
        "                    print(f\"Cliente {client_id} reservou {resource} por {duration} minutos\")\n",
        "                    client_socket.sendall(b\"True\")\n",
        "                    threading.Timer(duration * 60, self.release_resource, args=[client_id, resource]).start()\n",
        "                else:\n",
        "                    print(f\"Cliente {client_id} - {resource} ocupado\")\n",
        "                    client_socket.sendall(b\"False\")\n",
        "\n",
        "    def release_resource(self, client_id, resource):\n",
        "        with self.lock:\n",
        "            self.resources[resource] = True\n",
        "            print(f\"Cliente {client_id} liberou {resource}\")\n",
        "\n",
        "    def start_server(self):\n",
        "        while True:\n",
        "            client_socket, address = self.socket.accept()\n",
        "            print(f\"Conexão de {address} estabelecida.\")\n",
        "            client_handler = threading.Thread(\n",
        "                target=self.handle_request, args=(client_socket, address)\n",
        "            )\n",
        "            client_handler.start()\n",
        "\n",
        "class ResourceClient:\n",
        "    def __init__(self, host=\"localhost\", port=5000):\n",
        "        self.host = host\n",
        "        self.port = port\n",
        "\n",
        "    def request_resource(self, client_id, resource, duration):\n",
        "        with socket.socket(socket.AF_INET, socket.SOCK_STREAM) as s:\n",
        "            s.connect((self.host, self.port))\n",
        "            message = f\"{client_id},{resource},{duration}\"\n",
        "            s.sendall(message.encode())\n",
        "            data = s.recv(1024)\n",
        "            success = data.decode() == \"True\"\n",
        "            if success:\n",
        "                print(f\"Cliente {client_id} - reserva de {resource} confirmada!\")\n",
        "            else:\n",
        "                print(f\"Cliente {client_id} - reserva de {resource} negada.\")\n",
        "\n",
        "if __name__ == \"__main__\":\n",
        "    server = ResourceServer()\n",
        "    threading.Thread(target=server.start_server).start()\n",
        "\n",
        "    client = ResourceClient()\n",
        "    client.request_resource(1, \"impressora1\", 10)"
      ],
      "cell_type": "code",
      "metadata": {
        "colab": {
          "base_uri": "https://localhost:8080/"
        },
        "id": "bfARCQsnj_Uj",
        "outputId": "60ddf2e7-3c27-48b8-c587-7a07b3fe2146"
      },
      "execution_count": null,
      "outputs": [
        {
          "output_type": "stream",
          "name": "stdout",
          "text": [
            "Conexão de ('127.0.0.1', 57678) estabelecida.\n",
            "Cliente 1 reservou impressora1 por 10 minutos\n",
            "Cliente 1 - reserva de impressora1 confirmada!\n"
          ]
        }
      ]
    }
  ]
}