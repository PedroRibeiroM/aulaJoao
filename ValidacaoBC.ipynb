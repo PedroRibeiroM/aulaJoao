{
  "nbformat": 4,
  "nbformat_minor": 0,
  "metadata": {
    "colab": {
      "provenance": [],
      "authorship_tag": "ABX9TyNWs47SWjTPwQmj0Qf9CeZc",
      "include_colab_link": true
    },
    "kernelspec": {
      "name": "python3",
      "display_name": "Python 3"
    },
    "language_info": {
      "name": "python"
    }
  },
  "cells": [
    {
      "cell_type": "markdown",
      "metadata": {
        "id": "view-in-github",
        "colab_type": "text"
      },
      "source": [
        "<a href=\"https://colab.research.google.com/github/PedroRibeiroM/aulaJoao/blob/main/ValidacaoBC.ipynb\" target=\"_parent\"><img src=\"https://colab.research.google.com/assets/colab-badge.svg\" alt=\"Open In Colab\"/></a>"
      ]
    },
    {
      "cell_type": "code",
      "execution_count": 1,
      "metadata": {
        "colab": {
          "base_uri": "https://localhost:8080/"
        },
        "id": "hGp7jSfCe5bH",
        "outputId": "1f1adb29-f034-462d-80dc-eda255ebeaa3"
      },
      "outputs": [
        {
          "output_type": "stream",
          "name": "stdout",
          "text": [
            "Iniciando validação de bloco...\n",
            "Bloco válido! Hash atual: 47dbfe9aae34603754946876f69433c132600abb2f04d3b564cfd75f214e08d5\n",
            "Bloco válido! Hash atual: 47dbfe9aae34603754946876f69433c132600abb2f04d3b564cfd75f214e08d5\n",
            "Bloco válido! Hash atual: 47dbfe9aae34603754946876f69433c132600abb2f04d3b564cfd75f214e08d5\n",
            "Modificando o bloco com novos dados: Nova transação 4248\n",
            "Alteração detectada! Hash atual: 4a3d3e23fa70ee6f55926414c10ac6b43284b605d1f2472d0c5b79fa2f2356a6 != Hash original: 47dbfe9aae34603754946876f69433c132600abb2f04d3b564cfd75f214e08d5\n",
            "Bloco foi modificado! Sinalizando descarte.\n",
            "Modificando o bloco com novos dados: Nova transação 6015\n"
          ]
        }
      ],
      "source": [
        "import hashlib\n",
        "import threading\n",
        "import time\n",
        "import random\n",
        "\n",
        "class Block:\n",
        "    def __init__(self, data):\n",
        "        self.data = data\n",
        "        self.hash = self.calculate_hash()\n",
        "\n",
        "    def calculate_hash(self):\n",
        "        # Criar um hash a partir do conteúdo do bloco\n",
        "        return hashlib.sha256(self.data.encode('utf-8')).hexdigest()\n",
        "\n",
        "    def update_data(self, new_data):\n",
        "        self.data = new_data\n",
        "        self.hash = self.calculate_hash()\n",
        "\n",
        "def block_validator(block, original_block, stop_event):\n",
        "    \"\"\"\n",
        "    Thread que valida o hash do bloco periodicamente.\n",
        "    Se o hash atual for diferente do original, o bloco é considerado alterado e será descartado.\n",
        "    \"\"\"\n",
        "    print(\"Iniciando validação de bloco...\")\n",
        "    while not stop_event.is_set():\n",
        "        current_hash = block.hash\n",
        "        original_hash = original_block.hash\n",
        "\n",
        "        if current_hash != original_hash:\n",
        "            print(f\"Alteração detectada! Hash atual: {current_hash} != Hash original: {original_hash}\")\n",
        "            print(\"Bloco foi modificado! Sinalizando descarte.\")\n",
        "            stop_event.set()  # Sinaliza para parar a execução\n",
        "        else:\n",
        "            print(f\"Bloco válido! Hash atual: {current_hash}\")\n",
        "\n",
        "        time.sleep(2)  # Checa a cada 2 segundos\n",
        "\n",
        "def modify_block_periodically(block, stop_event):\n",
        "    \"\"\"\n",
        "    Simula modificações no bloco após intervalos de tempo aleatórios.\n",
        "    \"\"\"\n",
        "    while not stop_event.is_set():\n",
        "        # Aguarda um tempo aleatório entre 3 e 8 segundos antes de modificar o bloco\n",
        "        time_to_wait = random.randint(3, 8)\n",
        "        time.sleep(time_to_wait)\n",
        "\n",
        "        # Modifica o bloco com dados aleatórios\n",
        "        new_data = f\"Nova transação {random.randint(1000, 9999)}\"\n",
        "        print(f\"Modificando o bloco com novos dados: {new_data}\")\n",
        "        block.update_data(new_data)\n",
        "\n",
        "def main():\n",
        "    # Dados originais do bloco\n",
        "    original_data = \"Transação inicial 1234\"\n",
        "    bloco_original = Block(original_data)\n",
        "    bloco_atual = Block(original_data)  # Cópia para modificações\n",
        "\n",
        "    stop_event = threading.Event()\n",
        "\n",
        "    # Cria e inicia a thread de validação\n",
        "    validator_thread = threading.Thread(target=block_validator, args=(bloco_atual, bloco_original, stop_event))\n",
        "    validator_thread.start()\n",
        "\n",
        "    # Cria e inicia a thread que modifica o bloco periodicamente\n",
        "    modifier_thread = threading.Thread(target=modify_block_periodically, args=(bloco_atual, stop_event))\n",
        "    modifier_thread.start()\n",
        "\n",
        "    # Mantém a execução principal por um tempo, depois encerra\n",
        "    try:\n",
        "        while not stop_event.is_set():\n",
        "            time.sleep(1)\n",
        "    except KeyboardInterrupt:\n",
        "        stop_event.set()\n",
        "        print(\"Finalizando execução...\")\n",
        "\n",
        "    # Espera as threads terminarem\n",
        "    validator_thread.join()\n",
        "    modifier_thread.join()\n",
        "\n",
        "if __name__ == \"__main__\":\n",
        "    main()\n"
      ]
    }
  ]
}