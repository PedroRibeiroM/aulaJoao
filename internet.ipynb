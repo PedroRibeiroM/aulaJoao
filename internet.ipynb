{
  "nbformat": 4,
  "nbformat_minor": 0,
  "metadata": {
    "colab": {
      "provenance": [],
      "authorship_tag": "ABX9TyOnOkKIuUrr0+8um673utvY",
      "include_colab_link": true
    },
    "kernelspec": {
      "name": "python3",
      "display_name": "Python 3"
    },
    "language_info": {
      "name": "python"
    }
  },
  "cells": [
    {
      "cell_type": "markdown",
      "metadata": {
        "id": "view-in-github",
        "colab_type": "text"
      },
      "source": [
        "<a href=\"https://colab.research.google.com/github/PedroRibeiroM/aulaJoao/blob/main/internet.ipynb\" target=\"_parent\"><img src=\"https://colab.research.google.com/assets/colab-badge.svg\" alt=\"Open In Colab\"/></a>"
      ]
    },
    {
      "cell_type": "code",
      "source": [
        "import subprocess\n",
        "\n",
        "def ping(host):\n",
        "    try:\n",
        "        output = subprocess.check_output(['ping', '-c', '4', host], universal_newlines=True)\n",
        "        print(f\"Ping bem-sucedido para {host}\")\n",
        "        return True\n",
        "    except subprocess.CalledProcessError as e:\n",
        "        print(f\"Falha no ping para {host}\")\n",
        "        return False\n",
        "\n",
        "def traceroute(host):\n",
        "    try:\n",
        "        output = subprocess.check_output(['traceroute', host], universal_newlines=True)\n",
        "        print(f\"Traceroute para {host}:\\n{output}\")\n",
        "    except subprocess.CalledProcessError as e:\n",
        "        print(f\"Erro ao executar traceroute para {host}\")\n",
        "\n",
        "def diagnosticar_rede(hosts):\n",
        "    for host in hosts:\n",
        "        print(f\"\\nVerificando {host}...\")\n",
        "        if not ping(host):\n",
        "            print(f\"Falha ao pingar {host}. Executando traceroute para encontrar o ponto de falha.\")\n",
        "            traceroute(host)\n",
        "        else:\n",
        "            print(f\"{host} está acessível.\")\n",
        "\n",
        "\n",
        "hosts_para_testar = ['10.1.1.1', '10.1.0.75', '10.4.201.190', '200.210.66.213']\n",
        "\n",
        "\n",
        "diagnosticar_rede(hosts_para_testar)"
      ],
      "metadata": {
        "id": "jGhHdxQP8vlT"
      },
      "execution_count": null,
      "outputs": []
    }
  ]
}